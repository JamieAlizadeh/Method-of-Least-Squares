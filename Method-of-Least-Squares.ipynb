{
 "cells": [
  {
   "cell_type": "code",
   "execution_count": 55,
   "metadata": {},
   "outputs": [
    {
     "name": "stdout",
     "output_type": "stream",
     "text": [
      "[ 2.71048260e+04  5.06742114e+01  2.12989598e+04 -9.88324933e+04]\n"
     ]
    }
   ],
   "source": [
    "import pandas as pd\n",
    "import numpy as np\n",
    "\n",
    "df = pd.read_csv('Example Data.csv')\n",
    "A = df.drop(['SalePrice'],  axis=1)\n",
    "A['const'] = 1 # Solves for constant term\n",
    "y = df['SalePrice']\n",
    "\n",
    "from numpy.linalg import inv\n",
    "print(np.matmul(np.matmul(inv(np.matmul(A.T, A)), A.T), y))"
   ]
  },
  {
   "cell_type": "code",
   "execution_count": 38,
   "metadata": {},
   "outputs": [
    {
     "name": "stdout",
     "output_type": "stream",
     "text": [
      "-98832.49325495961\n",
      "[27104.82597153    50.67421142 21298.95976754]\n"
     ]
    }
   ],
   "source": [
    "from sklearn import linear_model # Importing sklearn's least squares to test against\n",
    "from sklearn import metrics\n",
    "\n",
    "ols = linear_model.LinearRegression()\n",
    "ols.fit(A,y)\n",
    "print(ols.intercept_)\n",
    "print(ols.coef_)"
   ]
  },
  {
   "cell_type": "code",
   "execution_count": null,
   "metadata": {},
   "outputs": [],
   "source": []
  }
 ],
 "metadata": {
  "kernelspec": {
   "display_name": "Python 3",
   "language": "python",
   "name": "python3"
  },
  "language_info": {
   "codemirror_mode": {
    "name": "ipython",
    "version": 3
   },
   "file_extension": ".py",
   "mimetype": "text/x-python",
   "name": "python",
   "nbconvert_exporter": "python",
   "pygments_lexer": "ipython3",
   "version": "3.6.3"
  }
 },
 "nbformat": 4,
 "nbformat_minor": 2
}
