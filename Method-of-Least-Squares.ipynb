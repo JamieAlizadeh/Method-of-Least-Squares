{
 "cells": [
  {
   "cell_type": "code",
   "execution_count": 99,
   "metadata": {},
   "outputs": [],
   "source": [
    "import pandas as pd\n",
    "import numpy as np\n",
    "from sklearn import linear_model\n",
    "from sklearn import metrics\n",
    "from numpy.linalg import inv\n",
    "\n",
    "def my_fit(A, y):\n",
    "    A['const'] = 1\n",
    "    estimator = np.matmul(np.matmul(inv(np.matmul(A.T, A)), A.T), y)\n",
    "    A = A.drop(['const'], axis=1)\n",
    "    return estimator"
   ]
  },
  {
   "cell_type": "code",
   "execution_count": 102,
   "metadata": {},
   "outputs": [],
   "source": [
    "df = pd.read_csv('HousePriceData.csv')  # Data taken from a Kaggle competition\n",
    "                                        # I'm competing in https://goo.gl/qBhxUd\n",
    "\n",
    "House_Feature_Data = df.drop(['SalePrice'],  axis=1)\n",
    "House_Sale_Price_Data = df['SalePrice']"
   ]
  },
  {
   "cell_type": "code",
   "execution_count": 101,
   "metadata": {},
   "outputs": [
    {
     "name": "stdout",
     "output_type": "stream",
     "text": [
      "[27104.82597153    50.67421142 21298.95976754]\n",
      "sklearn's intercept is:  -98832.49325495961\n",
      "my algo's intercept is:  -98832.49325496034\n",
      "sklearn's beta estimator is:  [27104.82597153    50.67421142 21298.95976754]\n",
      "my algo's beta estimator is:  [27104.82597153    50.67421142 21298.95976754]\n"
     ]
    }
   ],
   "source": [
    "# Testing against machine-learning library scikit-learn\n",
    "\n",
    "ols = linear_model.LinearRegression().fit(A, y)\n",
    "my_ols = my_fit(A, y)\n",
    "\n",
    "print('sklearn\\'s intercept is: ', ols.intercept_)\n",
    "print('my algo\\'s intercept is: ', my_ols[my_ols.size - 1])\n",
    "print('sklearn\\'s beta estimator is: ', ols.coef_)\n",
    "print('my algo\\'s beta estimator is: ', my_ols[0:my_ols.size - 1])"
   ]
  }
 ],
 "metadata": {
  "kernelspec": {
   "display_name": "Python 3",
   "language": "python",
   "name": "python3"
  },
  "language_info": {
   "codemirror_mode": {
    "name": "ipython",
    "version": 3
   },
   "file_extension": ".py",
   "mimetype": "text/x-python",
   "name": "python",
   "nbconvert_exporter": "python",
   "pygments_lexer": "ipython3",
   "version": "3.6.3"
  }
 },
 "nbformat": 4,
 "nbformat_minor": 2
}
